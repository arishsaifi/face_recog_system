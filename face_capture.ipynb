{
 "cells": [
  {
   "cell_type": "markdown",
   "id": "37116815",
   "metadata": {},
   "source": [
    "# **Face capturing**\n",
    "\n",
    "## **1. Installing Necessary Libraries**\n",
    "To get started with the face recognition system, install the following libraries:"
   ]
  },
  {
   "cell_type": "code",
   "execution_count": null,
   "id": "a4cc593c-7e98-4d6c-a23e-4ad8bbd1883e",
   "metadata": {},
   "outputs": [],
   "source": [
    "# installing necceccary libraries \n",
    "%pip install opencv-python\n",
    "%pip install face-recognition\n",
    "%pip install numpy\n",
    "%pip install pandas\n",
    "%pip install pillow\n"
   ]
  },
  {
   "cell_type": "markdown",
   "id": "a0204eec",
   "metadata": {},
   "source": [
    "- **opencv-python**: This library is essential for image and video processing tasks.\n",
    "- **face-recognition**: Used for face detection and recognition functionalities.\n",
    "- **numpy**: A fundamental package for scientific computing, particularly for handling arrays and matrices.\n",
    "- **pandas**: Useful for data manipulation and analysis, especially when working with structured data.\n",
    "- **pillow**: A powerful library for opening, manipulating, and saving many different image file formats."
   ]
  },
  {
   "cell_type": "markdown",
   "id": "71bbfb94-18d9-4c85-a20a-22ce85541314",
   "metadata": {},
   "source": [
    "## **2. Capture and Save Employee Faces**\n",
    "This function captures and saves images of persons in a dataset. The captured images will be stored in the \"dataset\" directory."
   ]
  },
  {
   "cell_type": "code",
   "execution_count": 4,
   "id": "8f946e27-070c-4a26-833f-ccfc3142956a",
   "metadata": {},
   "outputs": [],
   "source": [
    "#importing cv2 and os \n",
    "import cv2\n",
    "import os"
   ]
  },
  {
   "cell_type": "code",
   "execution_count": 5,
   "id": "568f4350-917d-4119-bf3e-ffcb2aa3100a",
   "metadata": {},
   "outputs": [],
   "source": [
    "def capture_images(emp_name, save_dir='dataset/', img_count=20):\n",
    "    cam = cv2.VideoCapture(0)\n",
    "    if not cam.isOpened():\n",
    "        print(\"Camera could not be opened\")\n",
    "        return\n",
    "    \n",
    "    # Ensure the directory for the employee exists\n",
    "    path = os.path.join(save_dir, emp_name)\n",
    "    if not os.path.exists(path):\n",
    "        os.makedirs(path)\n",
    "\n",
    "    captured_count = 0\n",
    "    while captured_count < img_count:\n",
    "        ret, frame = cam.read()\n",
    "        if not ret:\n",
    "            print(\"Failed to grab frame\")\n",
    "            break\n",
    "        \n",
    "        # Show the frame\n",
    "        cv2.imshow(\"Capturing Images\", frame)\n",
    "        \n",
    "        # Save image\n",
    "        img_name = os.path.join(path, f\"{emp_name}_{captured_count}.jpg\")\n",
    "        cv2.imwrite(img_name, frame)\n",
    "        print(f\"Captured {img_name}\")\n",
    "        captured_count += 1\n",
    "        \n",
    "        # Press 'q' to quit early\n",
    "        if cv2.waitKey(1) & 0xFF == ord('q'):\n",
    "            break\n",
    "\n",
    "    cam.release()\n",
    "    cv2.destroyAllWindows()"
   ]
  },
  {
   "cell_type": "markdown",
   "id": "a29e1c08",
   "metadata": {},
   "source": [
    "- **Function Definition**: The capture_images function takes three parameters:\n",
    "\n",
    "    - **emp_name**: The name of the employee for whom images are being captured.\n",
    "    - **save_dir**: The directory where the images will be saved (default is dataset/).\n",
    "    - **img_count**: The number of images to capture (default is 20).\n",
    "    - **Camera Initialization**: The function initializes the webcam using cv2.VideoCapture(0). If the camera cannot be opened, an error message is printed.\n",
    "\n",
    "- **Directory Creation**: It checks if a directory for the employee already exists. If not, it creates one using os.makedirs().\n",
    "\n",
    "- **Image Capture Loop**: A loop runs until the specified number of images is captured:\n",
    "\n",
    "    Each frame from the webcam is read, and if it is successful, it is displayed in a window.\n",
    "    The image is saved with a filename that includes the employee's name and a count (e.g., emp_name_0.jpg).\n",
    "    The captured count is incremented, and a message is printed to indicate the image has been captured.\n",
    "    Early Exit Option: The user can press the 'q' key to exit the capturing process early.\n",
    "\n",
    "- **Cleanup**: Finally, the camera is released, and all OpenCV windows are closed."
   ]
  },
  {
   "cell_type": "markdown",
   "id": "a5782911",
   "metadata": {},
   "source": [
    "## **3. Capturing Images**\n",
    "we can capture and save images by using the following code:"
   ]
  },
  {
   "cell_type": "code",
   "execution_count": 7,
   "id": "0e30b343",
   "metadata": {},
   "outputs": [
    {
     "name": "stdout",
     "output_type": "stream",
     "text": [
      "Captured dataset/Haris\\Haris_0.jpg\n",
      "Captured dataset/Haris\\Haris_1.jpg\n",
      "Captured dataset/Haris\\Haris_2.jpg\n",
      "Captured dataset/Haris\\Haris_3.jpg\n",
      "Captured dataset/Haris\\Haris_4.jpg\n",
      "Captured dataset/Haris\\Haris_5.jpg\n",
      "Captured dataset/Haris\\Haris_6.jpg\n",
      "Captured dataset/Haris\\Haris_7.jpg\n",
      "Captured dataset/Haris\\Haris_8.jpg\n",
      "Captured dataset/Haris\\Haris_9.jpg\n",
      "Captured dataset/Haris\\Haris_10.jpg\n",
      "Captured dataset/Haris\\Haris_11.jpg\n",
      "Captured dataset/Haris\\Haris_12.jpg\n",
      "Captured dataset/Haris\\Haris_13.jpg\n",
      "Captured dataset/Haris\\Haris_14.jpg\n",
      "Captured dataset/Haris\\Haris_15.jpg\n",
      "Captured dataset/Haris\\Haris_16.jpg\n",
      "Captured dataset/Haris\\Haris_17.jpg\n",
      "Captured dataset/Haris\\Haris_18.jpg\n",
      "Captured dataset/Haris\\Haris_19.jpg\n"
     ]
    }
   ],
   "source": [
    "\n",
    "emp_name = input(\"enter the name \")  \n",
    "\n",
    "capture_images(emp_name)"
   ]
  }
 ],
 "metadata": {
  "kernelspec": {
   "display_name": "Python 3 (ipykernel)",
   "language": "python",
   "name": "python3"
  },
  "language_info": {
   "codemirror_mode": {
    "name": "ipython",
    "version": 3
   },
   "file_extension": ".py",
   "mimetype": "text/x-python",
   "name": "python",
   "nbconvert_exporter": "python",
   "pygments_lexer": "ipython3",
   "version": "3.12.3"
  }
 },
 "nbformat": 4,
 "nbformat_minor": 5
}
